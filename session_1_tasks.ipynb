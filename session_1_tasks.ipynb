{
 "cells": [
  {
   "cell_type": "markdown",
   "metadata": {
    "id": "A05OG15VqOPF"
   },
   "source": [
    "# Task : Session 1\n",
    "Solve these questions own your own and try to test yourself what you have learned in the session.\n",
    "\n",
    "Happy Learning!"
   ]
  },
  {
   "cell_type": "markdown",
   "metadata": {
    "id": "2doIXf8bqe9_"
   },
   "source": [
    "### Q1 :- Print the given strings as per stated format.\n",
    "\n",
    "**Given strings**: \n",
    "```\n",
    "\"Data\" \"Science\" \"Mentorship\" \"Program\" \n",
    "\"By\" \"CampusX\"\n",
    "```\n",
    "**Output**: \n",
    "``` \n",
    "Data-Science-Mentorship-Program-started-By-CampusX\n",
    "```\n",
    "\n",
    "Concept- [Seperator and End]"
   ]
  },
  {
   "cell_type": "code",
   "execution_count": 1,
   "metadata": {
    "id": "-em6d3KErDtp"
   },
   "outputs": [
    {
     "name": "stdout",
     "output_type": "stream",
     "text": [
      "Data-Science-Mentorship-Program-Started-By-CampusX\n"
     ]
    }
   ],
   "source": [
    "# Write your code here\n",
    "print(\"Data\",\"Science\",\"Mentorship\",\"Program\",sep=\"-\",end=\"-Started-\")\n",
    "print(\"By\",\"CampusX\", sep=\"-\")"
   ]
  },
  {
   "cell_type": "markdown",
   "metadata": {
    "id": "1KUpN7ZTrC3_"
   },
   "source": [
    "### Q2:- Write a program that will convert celsius value to fahrenheit."
   ]
  },
  {
   "cell_type": "code",
   "execution_count": 3,
   "metadata": {
    "id": "yxKYhYQiqWfj"
   },
   "outputs": [
    {
     "name": "stdout",
     "output_type": "stream",
     "text": [
      "Enter the Celsius value: 40\n",
      "Fahrengeit value is:  104.0\n"
     ]
    }
   ],
   "source": [
    "# Write your code here\n",
    "cel = float(input(\"Enter the Celsius value: \"))\n",
    "far = cel * (9/5)+32\n",
    "print(\"Fahrengeit value is: \",far)"
   ]
  },
  {
   "cell_type": "markdown",
   "metadata": {
    "id": "RLrOBBJurLB2"
   },
   "source": [
    "### Q3:- Take 2 numbers as input from the user.Write a program to swap the numbers without using any special python syntax."
   ]
  },
  {
   "cell_type": "code",
   "execution_count": 6,
   "metadata": {
    "id": "yPn7if0TrJ4F"
   },
   "outputs": [
    {
     "name": "stdout",
     "output_type": "stream",
     "text": [
      "Enter your first value : 5\n",
      "Enter your first value : 4\n",
      "Before Swapping The Numbers are :  5 4\n",
      "After Swapping The Numbers are 4 5\n"
     ]
    }
   ],
   "source": [
    "# Write your code here\n",
    "a = int(input(\"Enter your first value : \"))   \n",
    "b = int(input(\"Enter your first value : \")) \n",
    "print(\"Before Swapping The Numbers are : \"a,b)\n",
    "temp = a\n",
    "a=b\n",
    "b=temp\n",
    "print(\"After Swapping The Numbers are\",a,b)"
   ]
  },
  {
   "cell_type": "markdown",
   "metadata": {
    "id": "waLCP1bjr7ML"
   },
   "source": [
    "### Q4:- Write a program to find the euclidean distance between two coordinates.Take both the coordinates from the user as input."
   ]
  },
  {
   "cell_type": "code",
   "execution_count": null,
   "metadata": {
    "id": "Pl1Sv-xnrxnH"
   },
   "outputs": [],
   "source": [
    "# Write your code here\n",
    "p1x = int(input('enter x cood of 1st point'))\n",
    "p1y = int(input('enter y cood of 1st point'))\n",
    "p2x = int(input('enter x cood of 2nd point'))\n",
    "p2y = int(input('enter y cood of 2nd point'))\n",
    "\n",
    "distance = ((p2x - p1x)**2 + (p2y - p1y)**2)**0.5\n",
    "\n",
    "print(round(distance,2))"
   ]
  },
  {
   "cell_type": "markdown",
   "metadata": {
    "id": "VLrhg-FRsHjR"
   },
   "source": [
    "### Q5:- Write a program to find the simple interest when the value of principle,rate of interest and time period is provided by the user.\n"
   ]
  },
  {
   "cell_type": "code",
   "execution_count": null,
   "metadata": {
    "id": "s40DlReZsTmY"
   },
   "outputs": [],
   "source": [
    "# Write your code here\n",
    "p = int(input('Enter amount'))\n",
    "t = int(input('Enter time period'))\n",
    "r = float(input('Enter rate'))\n",
    "\n",
    "interest = (p*t*r)/100\n",
    "\n",
    "print('the interest is',interest)"
   ]
  },
  {
   "cell_type": "markdown",
   "metadata": {
    "id": "LMy0BTUktYKa"
   },
   "source": [
    "### Q6:- Write a program that will tell the number of dogs and chicken are there when the user will provide the value of total heads and legs.\n",
    "\n",
    "For example:\n",
    "Input:\n",
    "heads -> 4\n",
    "legs -> 12\n",
    "<br>\n",
    "Output:\n",
    "dogs -> 2\n",
    "chicken -> 2\n",
    "\n",
    "\n",
    "\n"
   ]
  },
  {
   "cell_type": "code",
   "execution_count": 10,
   "metadata": {
    "id": "XSBvJoA4tXaG"
   },
   "outputs": [
    {
     "name": "stdout",
     "output_type": "stream",
     "text": [
      "Enter the total number of heads: 12\n",
      "Enter the total number of legs: 50\n",
      "Number of dogs: 11\n",
      "Number of chickens: 1\n"
     ]
    }
   ],
   "source": [
    "# Write your code here\n",
    "# get user input for total heads and legs\n",
    "total_heads = int(input(\"Enter the total number of heads: \"))\n",
    "total_legs = int(input(\"Enter the total number of legs: \"))\n",
    "\n",
    "# calculate the number of chickens\n",
    "num_chickens = (total_legs - 4 * total_heads) / 2\n",
    "\n",
    "# calculate the number of dogs\n",
    "num_dogs = total_heads - num_chickens\n",
    "\n",
    "# check if the solution is valid\n",
    "if num_chickens < 0 or num_dogs < 0 or num_chickens != int(num_chickens) or num_dogs != int(num_dogs):\n",
    "    print(\"Invalid input\")\n",
    "else:\n",
    "    # output the result\n",
    "    print(\"Number of dogs:\", int(num_dogs))\n",
    "    print(\"Number of chickens:\", int(num_chickens))\n"
   ]
  },
  {
   "cell_type": "markdown",
   "metadata": {
    "id": "gJ7C5kZYt4BP"
   },
   "source": [
    "### Q7:- Write a program to find the sum of squares of first n natural numbers where n will be provided by the user."
   ]
  },
  {
   "cell_type": "code",
   "execution_count": null,
   "metadata": {
    "id": "_tHsmEHzt2nX"
   },
   "outputs": [],
   "source": [
    "# Write your code here\n",
    "n = int(input('enter the number'))\n",
    "\n",
    "result = (n*(n+1)*(2*n + 1))/6\n",
    "print(result)"
   ]
  },
  {
   "cell_type": "markdown",
   "metadata": {
    "id": "FHrMM7g-yG1h"
   },
   "source": [
    "### Q8:- Given the first 2 terms of an Arithmetic Series.Find the Nth term of the series. Assume all inputs are provided by the user."
   ]
  },
  {
   "cell_type": "code",
   "execution_count": null,
   "metadata": {
    "id": "go4_kmZmyVSx"
   },
   "outputs": [],
   "source": [
    "# Write your code here\n",
    "first_term = int(input('enter 1st term'))\n",
    "second_term = int(input('enter 2nd term'))\n",
    "n = int(input('enter the value of n'))\n",
    "\n",
    "d = second_term - first_term\n",
    "\n",
    "an = first_term + (n-1)*d\n",
    "\n",
    "print(an)\n"
   ]
  },
  {
   "cell_type": "markdown",
   "metadata": {
    "id": "QgyRX_es1oum"
   },
   "source": [
    "### Q9:- Given 2 fractions, find the sum of those 2 fractions.Take the numerator and denominator values of the fractions from the user."
   ]
  },
  {
   "cell_type": "code",
   "execution_count": null,
   "metadata": {
    "id": "X05xqFS1yW16"
   },
   "outputs": [],
   "source": [
    "# Write your code here\n",
    "n1 = int(input('num1'))\n",
    "d1 = int(input('den1'))\n",
    "n2 = int(input('num2'))\n",
    "d2 = int(input('den2'))\n",
    "\n",
    "rn = n1*d2 + n2*d1\n",
    "rd = d1*d2\n",
    "\n",
    "print('{}/{}'.format(rn,rd))"
   ]
  },
  {
   "cell_type": "markdown",
   "metadata": {
    "id": "eaql38ln13u7"
   },
   "source": [
    "### Q10:- Given the height, width and breadth of a milk tank, you have to find out how many glasses of milk can be obtained? Assume all the inputs are provided by the user.\n",
    "\n",
    "\n",
    "\n",
    "Input:<br>\n",
    "Dimensions of the milk tank<br>\n",
    "H = 20cm, L = 20cm, B = 20cm\n",
    "<br><br>\n",
    "Dimensions of the glass<br>\n",
    "h = 3cm, r = 1cm"
   ]
  },
  {
   "cell_type": "code",
   "execution_count": null,
   "metadata": {
    "id": "FePZqno74eWv"
   },
   "outputs": [],
   "source": [
    "# Write your code here\n",
    "import math\n",
    "\n",
    "h_t = float(input('height'))\n",
    "b_t = float(input('breadth'))\n",
    "l_t = float(input('length'))\n",
    "\n",
    "h_g = float(input('height of glass'))\n",
    "r_g = float(input('radius of the glass'))\n",
    "\n",
    "vol_tank = h_t*b_t*l_t\n",
    "vol_glass = 3.14*r_g*r_g*h_g\n",
    "\n",
    "print('no of glasses',math.floor(vol_tank/vol_glass))"
   ]
  }
 ],
 "metadata": {
  "colab": {
   "provenance": []
  },
  "kernelspec": {
   "display_name": "Python 3 (ipykernel)",
   "language": "python",
   "name": "python3"
  },
  "language_info": {
   "codemirror_mode": {
    "name": "ipython",
    "version": 3
   },
   "file_extension": ".py",
   "mimetype": "text/x-python",
   "name": "python",
   "nbconvert_exporter": "python",
   "pygments_lexer": "ipython3",
   "version": "3.9.13"
  }
 },
 "nbformat": 4,
 "nbformat_minor": 1
}
